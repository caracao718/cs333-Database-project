{
 "cells": [
  {
   "cell_type": "code",
   "execution_count": 1,
   "id": "c2e5190f",
   "metadata": {},
   "outputs": [
    {
     "data": {
      "text/plain": [
       "<fileinput.FileInput at 0x107ed3d30>"
      ]
     },
     "execution_count": 1,
     "metadata": {},
     "output_type": "execute_result"
    }
   ],
   "source": [
    "import fileinput\n",
    "\n",
    "movieFile = fileinput.input(files = 'movies.txt')\n",
    "movieFile"
   ]
  },
  {
   "cell_type": "code",
   "execution_count": 2,
   "id": "b223ea50",
   "metadata": {},
   "outputs": [],
   "source": [
    "movies = [] #for movies table: id, title, year\n",
    "genres = [] # for genres, last part of each line\n",
    "genresTable = [] \n",
    "has_genre = []\n",
    "for line in movieFile:\n",
    "    movieId = line.split(':')[0]\n",
    "    \n",
    "    n = len(line.split(':'))\n",
    "    titleAndYear = line.split(':')[1:n-1]\n",
    "    # remove extra : in title\n",
    "    titleAndYear = ''.join(titleAndYear)\n",
    "    titleAndYear = titleAndYear.replace(':', '')\n",
    "    \n",
    "    # take the last part of titleAndYear to be year to avoid and extra punct in the title\n",
    "    \n",
    "    year = titleAndYear.split()[-1].replace('(', '')\n",
    "    year = year.replace(')','')\n",
    "    \n",
    "    numOfTitle = len(titleAndYear.split())\n",
    "    tempTitle = titleAndYear.split()[0:numOfTitle - 1]\n",
    "    title = ''\n",
    "    for t in tempTitle:\n",
    "        title += t + ' '\n",
    "    title = title.strip()\n",
    "\n",
    "    \n",
    "    \n",
    "    genre = line.split(':')[-1]\n",
    "    genre = genre.replace('\\n', '')\n",
    "    genres = genre.split('|')\n",
    "    \n",
    "    \n",
    "    movies.append(movieId+':'+title+':'+year+'\\n')\n",
    "    \n",
    "    \n",
    "    for each in genres:\n",
    "        has_genre.append(movieId+':'+each+'\\n')"
   ]
  },
  {
   "cell_type": "code",
   "execution_count": 3,
   "id": "258efc81",
   "metadata": {},
   "outputs": [],
   "source": [
    "outfile = 'moviesTable.csv'\n",
    "f = open(outfile, 'w')\n",
    "for movie in movies:\n",
    "    f.write(movie)\n",
    "    \n",
    "f.close()"
   ]
  },
  {
   "cell_type": "code",
   "execution_count": null,
   "id": "98e7d801",
   "metadata": {},
   "outputs": [],
   "source": []
  },
  {
   "cell_type": "code",
   "execution_count": 4,
   "id": "186a5e6a",
   "metadata": {},
   "outputs": [],
   "source": [
    "outfile = 'has_genre.csv'\n",
    "f = open(outfile, 'w')\n",
    "for line in has_genre:\n",
    "    f.write(line)\n",
    "    \n",
    "f.close()"
   ]
  },
  {
   "cell_type": "code",
   "execution_count": null,
   "id": "ba41b224",
   "metadata": {},
   "outputs": [],
   "source": []
  }
 ],
 "metadata": {
  "kernelspec": {
   "display_name": "Python 3 (ipykernel)",
   "language": "python",
   "name": "python3"
  },
  "language_info": {
   "codemirror_mode": {
    "name": "ipython",
    "version": 3
   },
   "file_extension": ".py",
   "mimetype": "text/x-python",
   "name": "python",
   "nbconvert_exporter": "python",
   "pygments_lexer": "ipython3",
   "version": "3.9.12"
  }
 },
 "nbformat": 4,
 "nbformat_minor": 5
}
