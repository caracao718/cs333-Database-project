{
 "cells": [
  {
   "cell_type": "markdown",
   "id": "f5510810",
   "metadata": {},
   "source": [
    "## tags.txt to tags.csv without extra ':' between tags"
   ]
  },
  {
   "cell_type": "code",
   "execution_count": 1,
   "id": "1edd23cf",
   "metadata": {},
   "outputs": [
    {
     "data": {
      "text/plain": [
       "<fileinput.FileInput at 0x10dd6e2b0>"
      ]
     },
     "execution_count": 1,
     "metadata": {},
     "output_type": "execute_result"
    }
   ],
   "source": [
    "'''\n",
    "Avoid cases such as\n",
    "\"3304:5785:simply: why???:1140622165\"\n",
    "'''\n",
    "import fileinput\n",
    "tagfile=fileinput.input(files = './movies/tags.txt')\n",
    "tagfile"
   ]
  },
  {
   "cell_type": "code",
   "execution_count": 2,
   "id": "fafb2364",
   "metadata": {},
   "outputs": [],
   "source": [
    "# f = open(infile, 'rb')\n",
    "# lines = f.readlines()\n",
    "tags = []"
   ]
  },
  {
   "cell_type": "code",
   "execution_count": 3,
   "id": "a8caee8a",
   "metadata": {},
   "outputs": [],
   "source": [
    "for line in tagfile:\n",
    "\tuser = line.split(':')[0]\n",
    "\tmovie = line.split(':')[1]\n",
    "\ttime = line.split(':')[-1]\n",
    "\tn = len(line.split(':'))\n",
    "\ttag = line.split(':')[2:n-1]\n",
    "\ttag = ''.join(tag)\n",
    "\t# need to remove ':' symbols\n",
    "\t# from tags so the demiliter is not confused\n",
    "\ttag = tag.replace(':','')\n",
    "\ttags.append(user+':'+movie+':'+tag+':'+time)"
   ]
  },
  {
   "cell_type": "code",
   "execution_count": 4,
   "id": "a4fc92bd",
   "metadata": {},
   "outputs": [],
   "source": [
    "outfile = './movies/tags.csv'\n",
    "f = open(outfile, 'w')\n",
    "for tag in tags:\n",
    "\tf.write(tag)\n",
    "\n",
    "f.close()"
   ]
  },
  {
   "cell_type": "markdown",
   "id": "0d2c8d26",
   "metadata": {},
   "source": [
    "## edit file for movies table"
   ]
  },
  {
   "cell_type": "code",
   "execution_count": 19,
   "id": "c381047b",
   "metadata": {},
   "outputs": [
    {
     "data": {
      "text/plain": [
       "<fileinput.FileInput at 0x10ddd0370>"
      ]
     },
     "execution_count": 19,
     "metadata": {},
     "output_type": "execute_result"
    }
   ],
   "source": []
  },
  {
   "cell_type": "code",
   "execution_count": 20,
   "id": "4c452043",
   "metadata": {},
   "outputs": [],
   "source": [
    "# test = '1:Toy Story (1995):Adventure|Animation|Children|Comedy|Fantasy'\n",
    "# movieId = test.split(':')[0]\n",
    "# movieId\n",
    "# titleAndYear = test.split(':')[1]\n",
    "# title = titleAndYear.split('(')[0]\n",
    "# title.strip()"
   ]
  },
  {
   "cell_type": "code",
   "execution_count": 21,
   "id": "6b21abd6",
   "metadata": {},
   "outputs": [],
   "source": [
    "# year = titleAndYear[titleAndYear.find('(')+1:titleAndYear.find(')')]\n",
    "# year\n",
    "# genres = []\n",
    "# genres = test.split(':')[2].split('|')\n",
    "# genres"
   ]
  },
  {
   "cell_type": "code",
   "execution_count": 22,
   "id": "ae440ff9",
   "metadata": {},
   "outputs": [],
   "source": []
  },
  {
   "cell_type": "code",
   "execution_count": 23,
   "id": "cb5a6691",
   "metadata": {},
   "outputs": [],
   "source": []
  },
  {
   "cell_type": "code",
   "execution_count": 24,
   "id": "658c163d",
   "metadata": {},
   "outputs": [],
   "source": []
  },
  {
   "cell_type": "code",
   "execution_count": 25,
   "id": "6a38f1e8",
   "metadata": {},
   "outputs": [],
   "source": []
  },
  {
   "cell_type": "code",
   "execution_count": null,
   "id": "b091d8bb",
   "metadata": {},
   "outputs": [],
   "source": []
  }
 ],
 "metadata": {
  "kernelspec": {
   "display_name": "Python 3 (ipykernel)",
   "language": "python",
   "name": "python3"
  },
  "language_info": {
   "codemirror_mode": {
    "name": "ipython",
    "version": 3
   },
   "file_extension": ".py",
   "mimetype": "text/x-python",
   "name": "python",
   "nbconvert_exporter": "python",
   "pygments_lexer": "ipython3",
   "version": "3.9.12"
  }
 },
 "nbformat": 4,
 "nbformat_minor": 5
}
